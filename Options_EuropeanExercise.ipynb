{
 "cells": [
  {
   "cell_type": "code",
   "execution_count": 1,
   "id": "5cf0a7e2-316c-462a-b8d9-8d540e1d9e01",
   "metadata": {},
   "outputs": [],
   "source": [
    "from derivatives import *\n",
    "import datetime as dt\n",
    "import numpy as np"
   ]
  },
  {
   "cell_type": "code",
   "execution_count": 2,
   "id": "42498085-bac9-42c0-aeaa-5e699f808ada",
   "metadata": {},
   "outputs": [],
   "source": [
    "import matplotlib.pyplot as plt\n",
    "plt.style.use('seaborn-dark')\n",
    "%matplotlib inline"
   ]
  },
  {
   "cell_type": "markdown",
   "id": "83f2b1c6-69d3-419c-9a2a-80ad98fc39f2",
   "metadata": {},
   "source": [
    "# Tests for european call"
   ]
  },
  {
   "cell_type": "code",
   "execution_count": 3,
   "id": "f770f8bb-7f49-4070-b9c2-f5cbea533722",
   "metadata": {},
   "outputs": [],
   "source": [
    "gbm_env = MarketEnvironment('GBE_ENV', dt.datetime(2020, 1, 1))"
   ]
  },
  {
   "cell_type": "code",
   "execution_count": 4,
   "id": "cfc42b46-71ea-44e0-b429-34579b9d4752",
   "metadata": {},
   "outputs": [],
   "source": [
    "gbm_env.add_constant('initial_value', 36.)\n",
    "gbm_env.add_constant('volatility', 0.2)\n",
    "gbm_env.add_constant('final_date', dt.datetime(2020, 12, 31))\n",
    "gbm_env.add_constant('currency', 'EUR')\n",
    "gbm_env.add_constant('frequency', 'M')\n",
    "gbm_env.add_constant('paths', 10000)"
   ]
  },
  {
   "cell_type": "code",
   "execution_count": 5,
   "id": "ba31ecac-4314-4d38-a3ef-ffb3c5a28934",
   "metadata": {},
   "outputs": [],
   "source": [
    "csr_model = ConstantShortRate('csr', 0.06)"
   ]
  },
  {
   "cell_type": "code",
   "execution_count": 6,
   "id": "928b60f5-7683-492f-b3ae-d451e23f2a2c",
   "metadata": {},
   "outputs": [],
   "source": [
    "gbm_env.add_curve('discount_curve', csr_model)"
   ]
  },
  {
   "cell_type": "code",
   "execution_count": 7,
   "id": "fcdae491-7873-4a4c-9b7b-8348125b9805",
   "metadata": {},
   "outputs": [],
   "source": [
    "gbm_model = GeometricBrownianMotion('gbm', gbm_env)"
   ]
  },
  {
   "cell_type": "code",
   "execution_count": 8,
   "id": "ad9c4e73-e69e-49ac-bc7d-e9b8cad8ba72",
   "metadata": {},
   "outputs": [],
   "source": [
    "gbm_model.generate_time_grid()"
   ]
  },
  {
   "cell_type": "code",
   "execution_count": 9,
   "id": "a7ad3e56-23f3-4a51-97b9-fb42d7b10702",
   "metadata": {},
   "outputs": [],
   "source": [
    "call_env = MarketEnvironment('call', gbm_model.pricing_date)"
   ]
  },
  {
   "cell_type": "code",
   "execution_count": 10,
   "id": "11f9ad37-eb0e-41d1-af4b-a44e4e5d7053",
   "metadata": {},
   "outputs": [
    {
     "data": {
      "text/plain": [
       "datetime.datetime(2020, 1, 1, 0, 0)"
      ]
     },
     "execution_count": 10,
     "metadata": {},
     "output_type": "execute_result"
    }
   ],
   "source": [
    "gbm_model.pricing_date"
   ]
  },
  {
   "cell_type": "code",
   "execution_count": 11,
   "id": "a4604d85-ef78-4530-9af4-c7adf45c97d5",
   "metadata": {},
   "outputs": [],
   "source": [
    "call_env.add_constant('strike', 40.)"
   ]
  },
  {
   "cell_type": "code",
   "execution_count": 12,
   "id": "d765b872-754f-4532-aa3c-fb8067b6ab92",
   "metadata": {},
   "outputs": [],
   "source": [
    "call_env.add_constant('maturity', dt.datetime(2020, 12, 31))"
   ]
  },
  {
   "cell_type": "code",
   "execution_count": 13,
   "id": "10fe975f-44a7-48f5-aeec-a4855db240da",
   "metadata": {},
   "outputs": [],
   "source": [
    "call_env.add_constant('currency', 'EUR')"
   ]
  },
  {
   "cell_type": "code",
   "execution_count": 14,
   "id": "25534500-487e-4cc6-aef9-bd030e6bb5ea",
   "metadata": {},
   "outputs": [],
   "source": [
    "payoff_func = 'np.maximum(maturity_value - strike, 0)'"
   ]
  },
  {
   "cell_type": "code",
   "execution_count": 15,
   "id": "880aadb6-f193-4874-b243-e526587cf146",
   "metadata": {},
   "outputs": [],
   "source": [
    "call = ValuationEuropeanMonteCarlo('call_env', underlying=gbm_model,\n",
    "mar_env=call_env, payoff_func=payoff_func)"
   ]
  },
  {
   "cell_type": "code",
   "execution_count": 16,
   "id": "2ab36e04-e6d0-4624-9ca7-1c0d4cd64c9c",
   "metadata": {},
   "outputs": [
    {
     "name": "stdout",
     "output_type": "stream",
     "text": [
      "CPU times: user 0 ns, sys: 7.13 ms, total: 7.13 ms\n",
      "Wall time: 6.35 ms\n"
     ]
    },
    {
     "data": {
      "text/plain": [
       "2.203498"
      ]
     },
     "execution_count": 16,
     "metadata": {},
     "output_type": "execute_result"
    }
   ],
   "source": [
    "%time call.present_value()"
   ]
  },
  {
   "cell_type": "code",
   "execution_count": 17,
   "id": "bf4da46d-1b88-498e-8330-d9a708ccbbad",
   "metadata": {},
   "outputs": [
    {
     "name": "stdout",
     "output_type": "stream",
     "text": [
      "CPU times: user 9.35 ms, sys: 347 µs, total: 9.7 ms\n",
      "Wall time: 9.85 ms\n"
     ]
    },
    {
     "data": {
      "text/plain": [
       "0.3955"
      ]
     },
     "execution_count": 17,
     "metadata": {},
     "output_type": "execute_result"
    }
   ],
   "source": [
    "%time call.delta()"
   ]
  },
  {
   "cell_type": "code",
   "execution_count": 18,
   "id": "ceb123eb-c90c-4b06-a950-349f8ecd44b7",
   "metadata": {},
   "outputs": [
    {
     "name": "stdout",
     "output_type": "stream",
     "text": [
      "CPU times: user 10.8 ms, sys: 4.25 ms, total: 15 ms\n",
      "Wall time: 14.1 ms\n"
     ]
    },
    {
     "data": {
      "text/plain": [
       "14.106"
      ]
     },
     "execution_count": 18,
     "metadata": {},
     "output_type": "execute_result"
    }
   ],
   "source": [
    "%time call.vega()"
   ]
  },
  {
   "cell_type": "code",
   "execution_count": 19,
   "id": "8c0647e4-a02f-4021-a80e-6406ef4cbe41",
   "metadata": {},
   "outputs": [
    {
     "name": "stdout",
     "output_type": "stream",
     "text": [
      "CPU times: user 145 ms, sys: 22.6 ms, total: 168 ms\n",
      "Wall time: 168 ms\n"
     ]
    }
   ],
   "source": [
    "%%time\n",
    "s_list = np.arange(34., 46.1, 2.)\n",
    "p_list = []; d_list = []; v_list = []\n",
    "for s in s_list:\n",
    "    call.update(initial_value=s)\n",
    "    p_list.append(call.present_value(fixed_seed=True))\n",
    "    d_list.append(call.delta())\n",
    "    v_list.append(call.vega())"
   ]
  },
  {
   "cell_type": "code",
   "execution_count": 20,
   "id": "a627db51-ed2b-402b-92bf-3dcc4e3f97a0",
   "metadata": {},
   "outputs": [
    {
     "data": {
      "image/png": "[encoded data removed]",
      "text/plain": [
       "<Figure size 648x504 with 3 Axes>"
      ]
     },
     "metadata": {
      "needs_background": "light"
     },
     "output_type": "display_data"
    }
   ],
   "source": [
    "plot_option_stats(s_list, p_list, d_list, v_list)"
   ]
  },
  {
   "cell_type": "code",
   "execution_count": 21,
   "id": "2ee35f11-1860-4d3c-bc84-b637000612d5",
   "metadata": {},
   "outputs": [
    {
     "name": "stdout",
     "output_type": "stream",
     "text": [
      "CPU times: user 210 ms, sys: 19.8 ms, total: 229 ms\n",
      "Wall time: 235 ms\n"
     ]
    },
    {
     "data": {
      "image/png": "[encoded data removed]",
      "text/plain": [
       "<Figure size 648x504 with 3 Axes>"
      ]
     },
     "metadata": {
      "needs_background": "light"
     },
     "output_type": "display_data"
    }
   ],
   "source": [
    "%time call.generate_plot(34., 46.1, 2.)"
   ]
  },
  {
   "cell_type": "markdown",
   "id": "6c97b342-bdb3-43c1-b12b-95c3f86f9c5c",
   "metadata": {},
   "source": [
    "# Tests for european put"
   ]
  },
  {
   "cell_type": "code",
   "execution_count": 22,
   "id": "5d77c799-17b3-4adb-8a70-a6a835a9ed51",
   "metadata": {},
   "outputs": [],
   "source": [
    "put_env = MarketEnvironment('put', gbm_model.pricing_date)"
   ]
  },
  {
   "cell_type": "code",
   "execution_count": 23,
   "id": "ff74945f-ae13-4b1b-854d-b84b24aa048d",
   "metadata": {},
   "outputs": [],
   "source": [
    "put_env.add_constant('strike', 40.)\n",
    "put_env.add_constant('maturity', dt.datetime(2020, 12, 31))\n",
    "put_env.add_constant('currency', 'EUR')\n",
    "payoff_func_put = 'np.maximum(strike - maturity_value, 0)'"
   ]
  },
  {
   "cell_type": "code",
   "execution_count": 24,
   "id": "667f03d1-05cf-46bf-97b0-98be52bf1400",
   "metadata": {},
   "outputs": [],
   "source": [
    "put = ValuationEuropeanMonteCarlo('put_env', underlying=gbm_model,\n",
    "mar_env=put_env, payoff_func=payoff_func_put)"
   ]
  },
  {
   "cell_type": "code",
   "execution_count": 25,
   "id": "8f1475bf-72c6-481a-a1bc-07772f770f3a",
   "metadata": {},
   "outputs": [
    {
     "name": "stdout",
     "output_type": "stream",
     "text": [
      "CPU times: user 8.96 ms, sys: 165 µs, total: 9.13 ms\n",
      "Wall time: 8 ms\n"
     ]
    },
    {
     "data": {
      "text/plain": [
       "0.694832"
      ]
     },
     "execution_count": 25,
     "metadata": {},
     "output_type": "execute_result"
    }
   ],
   "source": [
    "%time put.present_value()"
   ]
  },
  {
   "cell_type": "code",
   "execution_count": 26,
   "id": "c4f558b9-75e7-4258-a492-f91fa45b3088",
   "metadata": {},
   "outputs": [
    {
     "name": "stdout",
     "output_type": "stream",
     "text": [
      "CPU times: user 13.9 ms, sys: 0 ns, total: 13.9 ms\n",
      "Wall time: 12.2 ms\n"
     ]
    },
    {
     "data": {
      "text/plain": [
       "-0.1479"
      ]
     },
     "execution_count": 26,
     "metadata": {},
     "output_type": "execute_result"
    }
   ],
   "source": [
    "%time put.delta()"
   ]
  },
  {
   "cell_type": "code",
   "execution_count": 27,
   "id": "24ea1cfa-3c84-4a46-9e22-fb9d88b45684",
   "metadata": {},
   "outputs": [
    {
     "name": "stdout",
     "output_type": "stream",
     "text": [
      "CPU times: user 12.6 ms, sys: 106 µs, total: 12.7 ms\n",
      "Wall time: 11.6 ms\n"
     ]
    },
    {
     "data": {
      "text/plain": [
       "10.207"
      ]
     },
     "execution_count": 27,
     "metadata": {},
     "output_type": "execute_result"
    }
   ],
   "source": [
    "%time put.vega()"
   ]
  },
  {
   "cell_type": "code",
   "execution_count": 28,
   "id": "e0bb03d2-b0ad-4b55-8e8e-209a30eb006d",
   "metadata": {},
   "outputs": [
    {
     "name": "stdout",
     "output_type": "stream",
     "text": [
      "CPU times: user 228 ms, sys: 199 µs, total: 228 ms\n",
      "Wall time: 228 ms\n"
     ]
    },
    {
     "data": {
      "image/png": "[encoded data removed]",
      "text/plain": [
       "<Figure size 648x504 with 3 Axes>"
      ]
     },
     "metadata": {
      "needs_background": "light"
     },
     "output_type": "display_data"
    }
   ],
   "source": [
    "%time put.generate_plot(34., 50, 2.)"
   ]
  },
  {
   "cell_type": "markdown",
   "id": "2a15c295-e13b-41e2-a6c1-200392b21014",
   "metadata": {},
   "source": []
  },
  {
   "cell_type": "code",
   "execution_count": null,
   "id": "d1612bfc-0ea1-4bfc-aed2-3e2b9f7c8f0f",
   "metadata": {},
   "outputs": [],
   "source": [
    "# todo : Comparing to quantlib top options"
   ]
  },
  {
   "cell_type": "code",
   "execution_count": null,
   "id": "67458dd5-83ef-4f11-a803-8d7fe2e54fb1",
   "metadata": {},
   "outputs": [],
   "source": [
    "# todo : Stopping strategy"
   ]
  },
  {
   "cell_type": "code",
   "execution_count": null,
   "id": "eeb7303f-40e5-48ca-a7bd-75b7c587d061",
   "metadata": {},
   "outputs": [],
   "source": [
    "# todo : Implied volatitly rate"
   ]
  },
  {
   "cell_type": "code",
   "execution_count": null,
   "id": "95dc9559-7c38-4e45-b9c0-82284033fc0d",
   "metadata": {},
   "outputs": [],
   "source": []
  }
 ],
 "metadata": {
  "kernelspec": {
   "display_name": "Python 3",
   "language": "python",
   "name": "python3"
  },
  "language_info": {
   "codemirror_mode": {
    "name": "ipython",
    "version": 3
   },
   "file_extension": ".py",
   "mimetype": "text/x-python",
   "name": "python",
   "nbconvert_exporter": "python",
   "pygments_lexer": "ipython3",
   "version": "3.8.8"
  }
 },
 "nbformat": 4,
 "nbformat_minor": 5
}