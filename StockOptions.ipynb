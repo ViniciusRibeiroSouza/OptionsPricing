{
 "cells": [
  {
   "cell_type": "code",
   "execution_count": null,
   "id": "5cf0a7e2-316c-462a-b8d9-8d540e1d9e01",
   "metadata": {},
   "outputs": [],
   "source": [
    "import sys\n",
    "sys"
   ]
  },
  {
   "cell_type": "code",
   "execution_count": 12,
   "id": "f770f8bb-7f49-4070-b9c2-f5cbea533722",
   "metadata": {},
   "outputs": [
    {
     "ename": "ModuleNotFoundError",
     "evalue": "No module named 'get_year_deltas'",
     "output_type": "error",
     "traceback": [
      "\u001b[0;31m---------------------------------------------------------------------------\u001b[0m",
      "\u001b[0;31mModuleNotFoundError\u001b[0m                       Traceback (most recent call last)",
      "\u001b[0;32m<ipython-input-12-f61889d259d0>\u001b[0m in \u001b[0;36m<module>\u001b[0;34m\u001b[0m\n\u001b[0;32m----> 1\u001b[0;31m \u001b[0;32mfrom\u001b[0m \u001b[0mget_year_deltas\u001b[0m \u001b[0;32mimport\u001b[0m \u001b[0mget_year_deltas\u001b[0m\u001b[0;34m\u001b[0m\u001b[0;34m\u001b[0m\u001b[0m\n\u001b[0m\u001b[1;32m      2\u001b[0m \u001b[0;32mfrom\u001b[0m \u001b[0mconstant_short_rate\u001b[0m \u001b[0;32mimport\u001b[0m \u001b[0mConstantShortRate\u001b[0m\u001b[0;34m\u001b[0m\u001b[0;34m\u001b[0m\u001b[0m\n\u001b[1;32m      3\u001b[0m \u001b[0;32mfrom\u001b[0m \u001b[0mmarket_enviroments\u001b[0m \u001b[0;32mimport\u001b[0m \u001b[0mMarketEnvironment\u001b[0m\u001b[0;34m\u001b[0m\u001b[0;34m\u001b[0m\u001b[0m\n\u001b[1;32m      4\u001b[0m \u001b[0;32mfrom\u001b[0m \u001b[0mplot_option_stats\u001b[0m \u001b[0;32mimport\u001b[0m \u001b[0mplot_option_stats\u001b[0m\u001b[0;34m\u001b[0m\u001b[0;34m\u001b[0m\u001b[0m\n",
      "\u001b[0;31mModuleNotFoundError\u001b[0m: No module named 'get_year_deltas'"
     ]
    }
   ],
   "source": [
    "from get_year_deltas import get_year_deltas\n",
    "from constant_short_rate import ConstantShortRate\n",
    "from market_enviroments import MarketEnvironment\n",
    "from plot_option_stats import plot_option_stats"
   ]
  },
  {
   "cell_type": "code",
   "execution_count": 13,
   "id": "f0bcd3c8-e232-4da9-8e30-aca00b75bf4f",
   "metadata": {},
   "outputs": [
    {
     "ename": "NameError",
     "evalue": "name 'market_environment' is not defined",
     "output_type": "error",
     "traceback": [
      "\u001b[0;31m---------------------------------------------------------------------------\u001b[0m",
      "\u001b[0;31mNameError\u001b[0m                                 Traceback (most recent call last)",
      "\u001b[0;32m<ipython-input-13-f3a1fffec31d>\u001b[0m in \u001b[0;36m<module>\u001b[0;34m\u001b[0m\n\u001b[0;32m----> 1\u001b[0;31m \u001b[0mmkt_env_gbm\u001b[0m \u001b[0;34m=\u001b[0m \u001b[0mmarket_environment\u001b[0m\u001b[0;34m(\u001b[0m\u001b[0;34m'me_gbm'\u001b[0m\u001b[0;34m,\u001b[0m \u001b[0mdt\u001b[0m\u001b[0;34m.\u001b[0m\u001b[0mdatetime\u001b[0m\u001b[0;34m(\u001b[0m\u001b[0;36m2020\u001b[0m\u001b[0;34m,\u001b[0m \u001b[0;36m1\u001b[0m\u001b[0;34m,\u001b[0m \u001b[0;36m1\u001b[0m\u001b[0;34m)\u001b[0m\u001b[0;34m)\u001b[0m\u001b[0;34m\u001b[0m\u001b[0;34m\u001b[0m\u001b[0m\n\u001b[0m",
      "\u001b[0;31mNameError\u001b[0m: name 'market_environment' is not defined"
     ]
    }
   ],
   "source": [
    "mkt_env_gbm = market_environment('me_gbm', dt.datetime(2020, 1, 1))"
   ]
  },
  {
   "cell_type": "code",
   "execution_count": null,
   "id": "cfc42b46-71ea-44e0-b429-34579b9d4752",
   "metadata": {},
   "outputs": [],
   "source": []
  },
  {
   "cell_type": "code",
   "execution_count": null,
   "id": "ba31ecac-4314-4d38-a3ef-ffb3c5a28934",
   "metadata": {},
   "outputs": [],
   "source": []
  }
 ],
 "metadata": {
  "kernelspec": {
   "display_name": "Python 3",
   "language": "python",
   "name": "python3"
  },
  "language_info": {
   "codemirror_mode": {
    "name": "ipython",
    "version": 3
   },
   "file_extension": ".py",
   "mimetype": "text/x-python",
   "name": "python",
   "nbconvert_exporter": "python",
   "pygments_lexer": "ipython3",
   "version": "3.8.8"
  }
 },
 "nbformat": 4,
 "nbformat_minor": 5
}
